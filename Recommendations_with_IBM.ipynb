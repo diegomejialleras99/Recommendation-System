{
 "cells": [
  {
   "cell_type": "markdown",
   "metadata": {},
   "source": [
    "# Recommendation System Project: IBM Community\n",
    "\n",
    "\n",
    "\n",
    "## Table of Contents\n",
    "\n",
    "I. [Exploratory Data Analysis](#Exploratory-Data-Analysis)<br>\n",
    "II. [Rank Based Recommendations](#Rank)<br>\n",
    "III. [User-User Based Collaborative Filtering](#User-User)<br>\n",
    "IV. [Content Based Recommendations](#Content-Recs)<br>\n",
    "V. [Matrix Factorization](#Matrix-Fact)<br>\n",
    "VI. [Extras & Concluding](#conclusions)\n",
    "\n"
  },
  {
   "cell_type": "code",
   "execution_count": 1,
   "metadata": {},
   "outputs": [
    {
     "data": {
      "text/html": [
       "<div>\n",
       "<style scoped>\n",
       "    .dataframe tbody tr th:only-of-type {\n",
       "        vertical-align: middle;\n",
       "    }\n",
       "\n",
       "    .dataframe tbody tr th {\n",
       "        vertical-align: top;\n",
       "    }\n",
       "\n",
       "    .dataframe thead th {\n",
       "        text-align: right;\n",
       "    }\n",
       "</style>\n",
       "<table border=\"1\" class=\"dataframe\">\n",
       "  <thead>\n",
       "    <tr style=\"text-align: right;\">\n",
       "      <th></th>\n",
       "      <th>Unnamed: 0</th>\n",
       "      <th>article_id</th>\n",
       "      <th>title</th>\n",
       "      <th>email</th>\n",
       "    </tr>\n",
       "  </thead>\n",
       "  <tbody>\n",
       "    <tr>\n",
       "      <th>0</th>\n",
       "      <td>0</td>\n",
       "      <td>1430</td>\n",
       "      <td>using pixiedust for fast, flexible, and easier...</td>\n",
       "      <td>ef5f11f77ba020cd36e1105a00ab868bbdbf7fe7</td>\n",
       "    </tr>\n",
       "    <tr>\n",
       "      <th>1</th>\n",
       "      <td>1</td>\n",
       "      <td>1314</td>\n",
       "      <td>healthcare python streaming application demo</td>\n",
       "      <td>083cbdfa93c8444beaa4c5f5e0f5f9198e4f9e0b</td>\n",
       "    </tr>\n",
       "    <tr>\n",
       "      <th>2</th>\n",
       "      <td>2</td>\n",
       "      <td>1429</td>\n",
       "      <td>use deep learning for image classification</td>\n",
       "      <td>b96a4f2e92d8572034b1e9b28f9ac673765cd074</td>\n",
       "    </tr>\n",
       "    <tr>\n",
       "      <th>3</th>\n",
       "      <td>3</td>\n",
       "      <td>1338</td>\n",
       "      <td>ml optimization using cognitive assistant</td>\n",
       "      <td>06485706b34a5c9bf2a0ecdac41daf7e7654ceb7</td>\n",
       "    </tr>\n",
       "    <tr>\n",
       "      <th>4</th>\n",
       "      <td>4</td>\n",
       "      <td>1276</td>\n",
       "      <td>deploy your python model as a restful api</td>\n",
       "      <td>f01220c46fc92c6e6b161b1849de11faacd7ccb2</td>\n",
       "    </tr>\n",
       "  </tbody>\n",
       "</table>\n",
       "</div>"
      ],
      "text/plain": [
       "   Unnamed: 0  article_id                                              title  \\\n",
       "0           0        1430  using pixiedust for fast, flexible, and easier...   \n",
       "1           1        1314       healthcare python streaming application demo   \n",
       "2           2        1429         use deep learning for image classification   \n",
       "3           3        1338          ml optimization using cognitive assistant   \n",
       "4           4        1276          deploy your python model as a restful api   \n",
       "\n",
       "                                      email  \n",
       "0  ef5f11f77ba020cd36e1105a00ab868bbdbf7fe7  \n",
       "1  083cbdfa93c8444beaa4c5f5e0f5f9198e4f9e0b  \n",
       "2  b96a4f2e92d8572034b1e9b28f9ac673765cd074  \n",
       "3  06485706b34a5c9bf2a0ecdac41daf7e7654ceb7  \n",
       "4  f01220c46fc92c6e6b161b1849de11faacd7ccb2  "
      ]
     },
     "execution_count": 1,
     "metadata": {},
     "output_type": "execute_result"
    }
   ],
   "source": [
    "import pandas as pd\n",
    "import numpy as np\n",
    "import matplotlib.pyplot as plt\n",
    "import project_tests as t\n",
    "\n",
    "\n",
    "df = pd.read_csv(\n",
    "    'data/user-item-interactions.csv', \n",
    "    dtype={'article_id': int, 'title': str, 'email': str}\n",
    ")\n",
    "# Show df to get an idea of the data\n",
    "df.head()"
   ]
  },
  {
   "cell_type": "markdown",
   "metadata": {},
   "source": [
    "### <a class=\"anchor\" id=\"Exploratory-Data-Analysis\">Part I : Exploratory Data Analysis</a>\n",
    "\n",
    "Use the dictionary and cells below to provide some insight into the descriptive statistics of the data.\n",
    "\n",
    "`1.` Are there any missing values? If so, provide a count of missing values. If there are missing values in `email`, assign it the same id value `\"unknown_user\"`."
   ]
  },
  {
   "cell_type": "code",
   "execution_count": 2,
   "metadata": {},
   "outputs": [
    {
     "name": "stdout",
     "output_type": "stream",
     "text": [
      "<class 'pandas.core.frame.DataFrame'>\n",
      "RangeIndex: 45993 entries, 0 to 45992\n",
      "Data columns (total 4 columns):\n",
      " #   Column      Non-Null Count  Dtype \n",
      "---  ------      --------------  ----- \n",
      " 0   Unnamed: 0  45993 non-null  int64 \n",
      " 1   article_id  45993 non-null  int64 \n",
      " 2   title       45993 non-null  object\n",
      " 3   email       45976 non-null  object\n",
      "dtypes: int64(2), object(2)\n",
      "memory usage: 1.4+ MB\n"
     ]
    }
   ],
   "source": [
    "# Some interactions do not have a user associated with it, assume the same user.\n",
    "df.info()"
   ]
  },
  {
   "cell_type": "code",
   "execution_count": 3,
   "metadata": {},
   "outputs": [
    {
     "data": {
      "text/plain": [
       "np.int64(17)"
      ]
     },
     "execution_count": 3,
     "metadata": {},
     "output_type": "execute_result"
    }
   ],
   "source": [
    "## count count of missing values 'email' column ####\n",
    "df['email'].isnull().sum()"
   ]
  },
  {
   "cell_type": "code",
   "execution_count": 4,
   "metadata": {},
   "outputs": [
    {
     "name": "stdout",
     "output_type": "stream",
     "text": [
      "Number of Null email values is: 17\n"
     ]
    }
   ],
   "source": [
    "print(f\"Number of Null email values is: 17\")"
   ]
  },
  {
   "cell_type": "code",
   "execution_count": 5,
   "metadata": {},
   "outputs": [
    {
     "data": {
      "text/html": [
       "<div>\n",
       "<style scoped>\n",
       "    .dataframe tbody tr th:only-of-type {\n",
       "        vertical-align: middle;\n",
       "    }\n",
       "\n",
       "    .dataframe tbody tr th {\n",
       "        vertical-align: top;\n",
       "    }\n",
       "\n",
       "    .dataframe thead th {\n",
       "        text-align: right;\n",
       "    }\n",
       "</style>\n",
       "<table border=\"1\" class=\"dataframe\">\n",
       "  <thead>\n",
       "    <tr style=\"text-align: right;\">\n",
       "      <th></th>\n",
       "      <th>Unnamed: 0</th>\n",
       "      <th>article_id</th>\n",
       "      <th>title</th>\n",
       "      <th>email</th>\n",
       "    </tr>\n",
       "  </thead>\n",
       "  <tbody>\n",
       "    <tr>\n",
       "      <th>25131</th>\n",
       "      <td>25146</td>\n",
       "      <td>1016</td>\n",
       "      <td>why you should master r (even if it might even...</td>\n",
       "      <td>NaN</td>\n",
       "    </tr>\n",
       "    <tr>\n",
       "      <th>29758</th>\n",
       "      <td>30157</td>\n",
       "      <td>1393</td>\n",
       "      <td>the nurse assignment problem</td>\n",
       "      <td>NaN</td>\n",
       "    </tr>\n",
       "    <tr>\n",
       "      <th>29759</th>\n",
       "      <td>30158</td>\n",
       "      <td>20</td>\n",
       "      <td>working interactively with rstudio and noteboo...</td>\n",
       "      <td>NaN</td>\n",
       "    </tr>\n",
       "    <tr>\n",
       "      <th>29760</th>\n",
       "      <td>30159</td>\n",
       "      <td>1174</td>\n",
       "      <td>breast cancer wisconsin (diagnostic) data set</td>\n",
       "      <td>NaN</td>\n",
       "    </tr>\n",
       "    <tr>\n",
       "      <th>29761</th>\n",
       "      <td>30160</td>\n",
       "      <td>62</td>\n",
       "      <td>data visualization: the importance of excludin...</td>\n",
       "      <td>NaN</td>\n",
       "    </tr>\n",
       "    <tr>\n",
       "      <th>35264</th>\n",
       "      <td>36016</td>\n",
       "      <td>224</td>\n",
       "      <td>using apply, sapply, lapply in r</td>\n",
       "      <td>NaN</td>\n",
       "    </tr>\n",
       "    <tr>\n",
       "      <th>35276</th>\n",
       "      <td>36029</td>\n",
       "      <td>961</td>\n",
       "      <td>beyond parallelize and collect</td>\n",
       "      <td>NaN</td>\n",
       "    </tr>\n",
       "    <tr>\n",
       "      <th>35277</th>\n",
       "      <td>36030</td>\n",
       "      <td>268</td>\n",
       "      <td>sector correlations shiny app</td>\n",
       "      <td>NaN</td>\n",
       "    </tr>\n",
       "    <tr>\n",
       "      <th>35278</th>\n",
       "      <td>36031</td>\n",
       "      <td>268</td>\n",
       "      <td>sector correlations shiny app</td>\n",
       "      <td>NaN</td>\n",
       "    </tr>\n",
       "    <tr>\n",
       "      <th>35279</th>\n",
       "      <td>36032</td>\n",
       "      <td>268</td>\n",
       "      <td>sector correlations shiny app</td>\n",
       "      <td>NaN</td>\n",
       "    </tr>\n",
       "    <tr>\n",
       "      <th>35280</th>\n",
       "      <td>36033</td>\n",
       "      <td>268</td>\n",
       "      <td>sector correlations shiny app</td>\n",
       "      <td>NaN</td>\n",
       "    </tr>\n",
       "    <tr>\n",
       "      <th>35281</th>\n",
       "      <td>36034</td>\n",
       "      <td>415</td>\n",
       "      <td>using machine learning to predict value of hom...</td>\n",
       "      <td>NaN</td>\n",
       "    </tr>\n",
       "    <tr>\n",
       "      <th>35282</th>\n",
       "      <td>36035</td>\n",
       "      <td>846</td>\n",
       "      <td>pearson correlation aggregation on sparksql</td>\n",
       "      <td>NaN</td>\n",
       "    </tr>\n",
       "    <tr>\n",
       "      <th>35283</th>\n",
       "      <td>36036</td>\n",
       "      <td>268</td>\n",
       "      <td>sector correlations shiny app</td>\n",
       "      <td>NaN</td>\n",
       "    </tr>\n",
       "    <tr>\n",
       "      <th>35284</th>\n",
       "      <td>36037</td>\n",
       "      <td>162</td>\n",
       "      <td>an introduction to stock market data analysis ...</td>\n",
       "      <td>NaN</td>\n",
       "    </tr>\n",
       "    <tr>\n",
       "      <th>42749</th>\n",
       "      <td>44112</td>\n",
       "      <td>647</td>\n",
       "      <td>getting started with apache mahout</td>\n",
       "      <td>NaN</td>\n",
       "    </tr>\n",
       "    <tr>\n",
       "      <th>42750</th>\n",
       "      <td>44113</td>\n",
       "      <td>965</td>\n",
       "      <td>data visualization playbook: revisiting the ba...</td>\n",
       "      <td>NaN</td>\n",
       "    </tr>\n",
       "  </tbody>\n",
       "</table>\n",
       "</div>"
      ],
      "text/plain": [
       "       Unnamed: 0  article_id  \\\n",
       "25131       25146        1016   \n",
       "29758       30157        1393   \n",
       "29759       30158          20   \n",
       "29760       30159        1174   \n",
       "29761       30160          62   \n",
       "35264       36016         224   \n",
       "35276       36029         961   \n",
       "35277       36030         268   \n",
       "35278       36031         268   \n",
       "35279       36032         268   \n",
       "35280       36033         268   \n",
       "35281       36034         415   \n",
       "35282       36035         846   \n",
       "35283       36036         268   \n",
       "35284       36037         162   \n",
       "42749       44112         647   \n",
       "42750       44113         965   \n",
       "\n",
       "                                                   title email  \n",
       "25131  why you should master r (even if it might even...   NaN  \n",
       "29758                       the nurse assignment problem   NaN  \n",
       "29759  working interactively with rstudio and noteboo...   NaN  \n",
       "29760      breast cancer wisconsin (diagnostic) data set   NaN  \n",
       "29761  data visualization: the importance of excludin...   NaN  \n",
       "35264                   using apply, sapply, lapply in r   NaN  \n",
       "35276                     beyond parallelize and collect   NaN  \n",
       "35277                      sector correlations shiny app   NaN  \n",
       "35278                      sector correlations shiny app   NaN  \n",
       "35279                      sector correlations shiny app   NaN  \n",
       "35280                      sector correlations shiny app   NaN  \n",
       "35281  using machine learning to predict value of hom...   NaN  \n",
       "35282        pearson correlation aggregation on sparksql   NaN  \n",
       "35283                      sector correlations shiny app   NaN  \n",
       "35284  an introduction to stock market data analysis ...   NaN  \n",
       "42749                 getting started with apache mahout   NaN  \n",
       "42750  data visualization playbook: revisiting the ba...   NaN  "
      ]
     },
     "execution_count": 5,
     "metadata": {},
     "output_type": "execute_result"
    }
   ],
   "source": [
    "df[df.email.isna()]"
   ]
  },
  {
   "cell_type": "code",
   "execution_count": 6,
   "metadata": {},
   "outputs": [],
   "source": [
    "# Fill email NaNs with \"unknown_user\"\n",
    "df['email'] = df['email'].fillna(\"unknown_user\")"
   ]
  },
  {
   "cell_type": "code",
   "execution_count": 7,
   "metadata": {},
   "outputs": [
    {
     "data": {
      "text/html": [
       "<div>\n",
       "<style scoped>\n",
       "    .dataframe tbody tr th:only-of-type {\n",
       "        vertical-align: middle;\n",
       "    }\n",
       "\n",
       "    .dataframe tbody tr th {\n",
       "        vertical-align: top;\n",
       "    }\n",
       "\n",
       "    .dataframe thead th {\n",
       "        text-align: right;\n",
       "    }\n",
       "</style>\n",
       "<table border=\"1\" class=\"dataframe\">\n",
       "  <thead>\n",
       "    <tr style=\"text-align: right;\">\n",
       "      <th></th>\n",
       "      <th>Unnamed: 0</th>\n",
       "      <th>article_id</th>\n",
       "      <th>title</th>\n",
       "      <th>email</th>\n",
       "    </tr>\n",
       "  </thead>\n",
       "  <tbody>\n",
       "  </tbody>\n",
       "</table>\n",
       "</div>"
      ],
      "text/plain": [
       "Empty DataFrame\n",
       "Columns: [Unnamed: 0, article_id, title, email]\n",
       "Index: []"
      ]
     },
     "execution_count": 7,
     "metadata": {},
     "output_type": "execute_result"
    }
   ],
   "source": [
    "# Check if no more NaNs \n",
    "df[df.email.isna()]"
   ]
  },
  {
   "cell_type": "markdown",
   "metadata": {},
   "source": [
    "`2.` What is the distribution of how many articles a user interacts with in the dataset?  Provide a visual and descriptive statistics to assist with giving a look at the number of times each user interacts with an article."
   ]
  },
  {
   "cell_type": "code",
   "execution_count": 8,
   "metadata": {},
   "outputs": [
    {
     "data": {
      "text/html": [
       "<div>\n",
       "<style scoped>\n",
       "    .dataframe tbody tr th:only-of-type {\n",
       "        vertical-align: middle;\n",
       "    }\n",
       "\n",
       "    .dataframe tbody tr th {\n",
       "        vertical-align: top;\n",
       "    }\n",
       "\n",
       "    .dataframe thead th {\n",
       "        text-align: right;\n",
       "    }\n",
       "</style>\n",
       "<table border=\"1\" class=\"dataframe\">\n",
       "  <thead>\n",
       "    <tr style=\"text-align: right;\">\n",
       "      <th></th>\n",
       "      <th>article_id</th>\n",
       "    </tr>\n",
       "  </thead>\n",
       "  <tbody>\n",
       "    <tr>\n",
       "      <th>count</th>\n",
       "      <td>5149.000000</td>\n",
       "    </tr>\n",
       "    <tr>\n",
       "      <th>mean</th>\n",
       "      <td>8.932414</td>\n",
       "    </tr>\n",
       "    <tr>\n",
       "      <th>std</th>\n",
       "      <td>16.801011</td>\n",
       "    </tr>\n",
       "    <tr>\n",
       "      <th>min</th>\n",
       "      <td>1.000000</td>\n",
       "    </tr>\n",
       "    <tr>\n",
       "      <th>25%</th>\n",
       "      <td>1.000000</td>\n",
       "    </tr>\n",
       "    <tr>\n",
       "      <th>50%</th>\n",
       "      <td>3.000000</td>\n",
       "    </tr>\n",
       "    <tr>\n",
       "      <th>75%</th>\n",
       "      <td>9.000000</td>\n",
       "    </tr>\n",
       "    <tr>\n",
       "      <th>max</th>\n",
       "      <td>364.000000</td>\n",
       "    </tr>\n",
       "  </tbody>\n",
       "</table>\n",
       "</div>"
      ],
      "text/plain": [
       "        article_id\n",
       "count  5149.000000\n",
       "mean      8.932414\n",
       "std      16.801011\n",
       "min       1.000000\n",
       "25%       1.000000\n",
       "50%       3.000000\n",
       "75%       9.000000\n",
       "max     364.000000"
      ]
     },
     "execution_count": 8,
     "metadata": {},
     "output_type": "execute_result"
    }
   ],
   "source": [
    "# What are the descriptive statistics of the number of articles a user interacts with?\n",
    "df_1 = df[['email', 'article_id']].groupby('email').count()\n",
    "df_1.describe()"
   ]
  },
  {
   "cell_type": "code",
   "execution_count": 9,
   "metadata": {},
   "outputs": [
    {
     "data": {
      "image/png": "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",
      "text/plain": [
       "<Figure size 640x480 with 1 Axes>"
      ]
     },
     "metadata": {},
     "output_type": "display_data"
    }
   ],
   "source": [
    "# Create a plot of the number of articles read by each user\n",
    "plt.hist(df_1.article_id, bins=20, log = True)\n",
    "plt.xlabel('number of articles')\n",
    "plt.ylabel('Number of users')\n",
    "plt.title('number of users reading articles')\n",
    "plt.show()"
   ]
  },
  {
   "cell_type": "code",
   "execution_count": 10,
   "metadata": {},
   "outputs": [
    {
     "data": {
      "text/html": [
       "<div>\n",
       "<style scoped>\n",
       "    .dataframe tbody tr th:only-of-type {\n",
       "        vertical-align: middle;\n",
       "    }\n",
       "\n",
       "    .dataframe tbody tr th {\n",
       "        vertical-align: top;\n",
       "    }\n",
       "\n",
       "    .dataframe thead th {\n",
       "        text-align: right;\n",
       "    }\n",
       "</style>\n",
       "<table border=\"1\" class=\"dataframe\">\n",
       "  <thead>\n",
       "    <tr style=\"text-align: right;\">\n",
       "      <th></th>\n",
       "      <th>email</th>\n",
       "    </tr>\n",
       "  </thead>\n",
       "  <tbody>\n",
       "    <tr>\n",
       "      <th>count</th>\n",
       "      <td>714.000000</td>\n",
       "    </tr>\n",
       "    <tr>\n",
       "      <th>mean</th>\n",
       "      <td>64.415966</td>\n",
       "    </tr>\n",
       "    <tr>\n",
       "      <th>std</th>\n",
       "      <td>109.175923</td>\n",
       "    </tr>\n",
       "    <tr>\n",
       "      <th>min</th>\n",
       "      <td>1.000000</td>\n",
       "    </tr>\n",
       "    <tr>\n",
       "      <th>25%</th>\n",
       "      <td>8.000000</td>\n",
       "    </tr>\n",
       "    <tr>\n",
       "      <th>50%</th>\n",
       "      <td>25.000000</td>\n",
       "    </tr>\n",
       "    <tr>\n",
       "      <th>75%</th>\n",
       "      <td>69.000000</td>\n",
       "    </tr>\n",
       "    <tr>\n",
       "      <th>max</th>\n",
       "      <td>937.000000</td>\n",
       "    </tr>\n",
       "  </tbody>\n",
       "</table>\n",
       "</div>"
      ],
      "text/plain": [
       "            email\n",
       "count  714.000000\n",
       "mean    64.415966\n",
       "std    109.175923\n",
       "min      1.000000\n",
       "25%      8.000000\n",
       "50%     25.000000\n",
       "75%     69.000000\n",
       "max    937.000000"
      ]
     },
     "execution_count": 10,
     "metadata": {},
     "output_type": "execute_result"
    }
   ],
   "source": [
    "df_2 = df[['email', 'article_id']].groupby('article_id').count()\n",
    "df_2.describe()"
   ]
  },
  {
   "cell_type": "code",
   "execution_count": 11,
   "metadata": {},
   "outputs": [
    {
     "data": {
      "image/png": "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",
      "text/plain": [
       "<Figure size 640x480 with 1 Axes>"
      ]
     },
     "metadata": {},
     "output_type": "display_data"
    }
   ],
   "source": [
    "# Create a plot of the number of times each article was read\n",
    "\n",
    "plt.hist(df_2.email, bins = 20, log = True)\n",
    "plt.xlabel('number of users')\n",
    "plt.ylabel('number of articles')\n",
    "plt.title('distribution of artivle usage')\n",
    "plt.show()"
   ]
  },
  {
   "cell_type": "code",
   "execution_count": 12,
   "metadata": {},
   "outputs": [],
   "source": [
    "# Fill in the median and maximum number of user_article interactions below\n",
    "\n",
    "median_val = 3 # 50% of individuals interact with ____ number of articles or fewer.\n",
    "max_views_by_user =  364 # The maximum number of user-article interactions by any 1 user is ______."
   ]
  },
  {
   "cell_type": "markdown",
   "metadata": {},
   "source": [
    "`3.` Use the cells below to find:\n",
    "\n",
    "**a.** The number of unique articles that have an interaction with a user.  \n",
    "**b.** The number of unique articles in the dataset (whether they have any interactions or not).<br>\n",
    "**c.** The number of unique users in the dataset. (excluding null values) <br>\n",
    "**d.** The number of user-article interactions in the dataset."
   ]
  },
  {
   "cell_type": "code",
   "execution_count": 13,
   "metadata": {},
   "outputs": [],
   "source": [
    "unique_articles =  df['article_id'].nunique() # The number of unique articles that have at least one interaction\n",
    "total_articles =  df['article_id'].nunique() # The number of unique articles on the IBM platform\n",
    "unique_users = df['email'].nunique()  # The number of unique users\n",
    "user_article_interactions =  df.shape[0] # The number of user-article interactions"
   ]
  },
  {
   "cell_type": "code",
   "execution_count": 14,
   "metadata": {},
   "outputs": [
    {
     "data": {
      "text/plain": [
       "(714, 714, 5149, 45993)"
      ]
     },
     "execution_count": 14,
     "metadata": {},
     "output_type": "execute_result"
    }
   ],
   "source": [
    "unique_articles, total_articles, unique_users, user_article_interactions"
   ]
  },
  {
   "cell_type": "markdown",
   "metadata": {},
   "source": [
    "`4.` Use the cells below to find the most viewed **article_id**, as well as how often it was viewed.  After talking to the company leaders, the `email_mapper` function was deemed a reasonable way to map users to ids.  There were a small number of null values, and it was found that all of these null values likely belonged to a single user (which is how they are stored using the function below)."
   ]
  },
  {
   "cell_type": "code",
   "execution_count": 15,
   "metadata": {},
   "outputs": [
    {
     "data": {
      "text/html": [
       "<div>\n",
       "<style scoped>\n",
       "    .dataframe tbody tr th:only-of-type {\n",
       "        vertical-align: middle;\n",
       "    }\n",
       "\n",
       "    .dataframe tbody tr th {\n",
       "        vertical-align: top;\n",
       "    }\n",
       "\n",
       "    .dataframe thead th {\n",
       "        text-align: right;\n",
       "    }\n",
       "</style>\n",
       "<table border=\"1\" class=\"dataframe\">\n",
       "  <thead>\n",
       "    <tr style=\"text-align: right;\">\n",
       "      <th></th>\n",
       "      <th>email</th>\n",
       "    </tr>\n",
       "    <tr>\n",
       "      <th>article_id</th>\n",
       "      <th></th>\n",
       "    </tr>\n",
       "  </thead>\n",
       "  <tbody>\n",
       "    <tr>\n",
       "      <th>1429</th>\n",
       "      <td>937</td>\n",
       "    </tr>\n",
       "    <tr>\n",
       "      <th>1330</th>\n",
       "      <td>927</td>\n",
       "    </tr>\n",
       "    <tr>\n",
       "      <th>1431</th>\n",
       "      <td>671</td>\n",
       "    </tr>\n",
       "    <tr>\n",
       "      <th>1427</th>\n",
       "      <td>643</td>\n",
       "    </tr>\n",
       "    <tr>\n",
       "      <th>1364</th>\n",
       "      <td>627</td>\n",
       "    </tr>\n",
       "    <tr>\n",
       "      <th>1314</th>\n",
       "      <td>614</td>\n",
       "    </tr>\n",
       "    <tr>\n",
       "      <th>1293</th>\n",
       "      <td>572</td>\n",
       "    </tr>\n",
       "    <tr>\n",
       "      <th>1170</th>\n",
       "      <td>565</td>\n",
       "    </tr>\n",
       "    <tr>\n",
       "      <th>1162</th>\n",
       "      <td>512</td>\n",
       "    </tr>\n",
       "    <tr>\n",
       "      <th>1304</th>\n",
       "      <td>483</td>\n",
       "    </tr>\n",
       "  </tbody>\n",
       "</table>\n",
       "</div>"
      ],
      "text/plain": [
       "            email\n",
       "article_id       \n",
       "1429          937\n",
       "1330          927\n",
       "1431          671\n",
       "1427          643\n",
       "1364          627\n",
       "1314          614\n",
       "1293          572\n",
       "1170          565\n",
       "1162          512\n",
       "1304          483"
      ]
     },
     "execution_count": 15,
     "metadata": {},
     "output_type": "execute_result"
    }
   ],
   "source": [
    "df[['article_id', 'email']].groupby(['article_id']).count().sort_values(['email'], ascending = False).head(10)\n"
   ]
  },
  {
   "cell_type": "code",
   "execution_count": 16,
   "metadata": {},
   "outputs": [],
   "source": [
    "most_viewed_article_id =  1429 # The most viewed article in the dataset as a string with one value following the decimal \n",
    "max_views =  937 # The most viewed article in the dataset was viewed how many times?"
   ]
  },
  {
   "cell_type": "code",
   "execution_count": 17,
   "metadata": {},
   "outputs": [
    {
     "data": {
      "text/html": [
       "<div>\n",
       "<style scoped>\n",
       "    .dataframe tbody tr th:only-of-type {\n",
       "        vertical-align: middle;\n",
       "    }\n",
       "\n",
       "    .dataframe tbody tr th {\n",
       "        vertical-align: top;\n",
       "    }\n",
       "\n",
       "    .dataframe thead th {\n",
       "        text-align: right;\n",
       "    }\n",
       "</style>\n",
       "<table border=\"1\" class=\"dataframe\">\n",
       "  <thead>\n",
       "    <tr style=\"text-align: right;\">\n",
       "      <th></th>\n",
       "      <th>Unnamed: 0</th>\n",
       "      <th>article_id</th>\n",
       "      <th>title</th>\n",
       "      <th>user_id</th>\n",
       "    </tr>\n",
       "  </thead>\n",
       "  <tbody>\n",
       "    <tr>\n",
       "      <th>0</th>\n",
       "      <td>0</td>\n",
       "      <td>1430</td>\n",
       "      <td>using pixiedust for fast, flexible, and easier...</td>\n",
       "      <td>1</td>\n",
       "    </tr>\n",
       "    <tr>\n",
       "      <th>1</th>\n",
       "      <td>1</td>\n",
       "      <td>1314</td>\n",
       "      <td>healthcare python streaming application demo</td>\n",
       "      <td>2</td>\n",
       "    </tr>\n",
       "    <tr>\n",
       "      <th>2</th>\n",
       "      <td>2</td>\n",
       "      <td>1429</td>\n",
       "      <td>use deep learning for image classification</td>\n",
       "      <td>3</td>\n",
       "    </tr>\n",
       "    <tr>\n",
       "      <th>3</th>\n",
       "      <td>3</td>\n",
       "      <td>1338</td>\n",
       "      <td>ml optimization using cognitive assistant</td>\n",
       "      <td>4</td>\n",
       "    </tr>\n",
       "    <tr>\n",
       "      <th>4</th>\n",
       "      <td>4</td>\n",
       "      <td>1276</td>\n",
       "      <td>deploy your python model as a restful api</td>\n",
       "      <td>5</td>\n",
       "    </tr>\n",
       "  </tbody>\n",
       "</table>\n",
       "</div>"
      ],
      "text/plain": [
       "   Unnamed: 0  article_id                                              title  \\\n",
       "0           0        1430  using pixiedust for fast, flexible, and easier...   \n",
       "1           1        1314       healthcare python streaming application demo   \n",
       "2           2        1429         use deep learning for image classification   \n",
       "3           3        1338          ml optimization using cognitive assistant   \n",
       "4           4        1276          deploy your python model as a restful api   \n",
       "\n",
       "   user_id  \n",
       "0        1  \n",
       "1        2  \n",
       "2        3  \n",
       "3        4  \n",
       "4        5  "
      ]
     },
     "execution_count": 17,
     "metadata": {},
     "output_type": "execute_result"
    }
   ],
   "source": [
    "## No need to change the code here - this will be helpful for later parts of the notebook\n",
    "# Run this cell to map the user email to a user_id column and remove the email column\n",
    "\n",
    "def email_mapper(df=df):\n",
    "    coded_dict = {\n",
    "        email: num \n",
    "        for num, email in enumerate(df['email'].unique(), start=1)\n",
    "    }\n",
    "    return [coded_dict[val] for val in df['email']]\n",
    "\n",
    "df['user_id'] = email_mapper(df)\n",
    "del df['email']\n",
    "\n",
    "# show header\n",
    "df.head()"
   ]
  },
  {
   "cell_type": "code",
   "execution_count": 18,
   "metadata": {},
   "outputs": [
    {
     "name": "stdout",
     "output_type": "stream",
     "text": [
      "It looks like you have everything right here! Nice job!\n"
     ]
    }
   ],
   "source": [
    "## If you stored all your results in the variable names above, \n",
    "## you shouldn't need to change anything in this cell\n",
    "\n",
    "sol_1_dict = {\n",
    "    '`50% of individuals have _____ or fewer interactions.`': median_val,\n",
    "    '`The total number of user-article interactions in the dataset is ______.`': user_article_interactions,\n",
    "    '`The maximum number of user-article interactions by any 1 user is ______.`': max_views_by_user,\n",
    "    '`The most viewed article in the dataset was viewed _____ times.`': max_views,\n",
    "    '`The article_id of the most viewed article is ______.`': most_viewed_article_id,\n",
    "    '`The number of unique articles that have at least 1 rating ______.`': unique_articles,\n",
    "    '`The number of unique users in the dataset is ______`': unique_users,\n",
    "    '`The number of unique articles on the IBM platform`': total_articles\n",
    "}\n",
    "\n",
    "# Test your dictionary against the solution\n",
    "t.sol_1_test(sol_1_dict)"
   ]
  },
  {
   "cell_type": "markdown",
   "metadata": {},
   "source": [
    "### <a class=\"anchor\" id=\"Rank\">Part II: Rank-Based Recommendations</a>\n",
    "\n",
    "In this project, we don't actually have ratings for whether a user liked an article or not.  We only know that a user has interacted with an article. In these cases, the popularity of an article can really only be based on how often an article was interacted with.\n",
    "\n",
    "`1.` Fill in the function below to return the **n** top articles ordered with most interactions as the top. Test your function using the tests below."
   ]
  },
  {
   "cell_type": "code",
   "execution_count": 19,
   "metadata": {},
   "outputs": [],
   "source": [
    "def get_top_articles(n, df=df):\n",
    "    \"\"\"\n",
    "    INPUT:\n",
    "    n - (int) the number of top articles to return\n",
    "    df - (pandas dataframe) df as defined at the top of the notebook \n",
    "    \n",
    "    OUTPUT:\n",
    "    top_articles - (list) A list of the top 'n' article titles \n",
    "    \n",
    "    \"\"\"\n",
    "    \n",
    "    article_idx = list(df['article_id'].value_counts().index[:n])\n",
    "    top_articles = []\n",
    "    for i in range(n):\n",
    "        article_title = df[df.article_id == article_idx[i]]['title'].iloc[0]\n",
    "        top_articles.append(article_title)\n",
    "    \n",
    "    return top_articles # Return the top article titles from df\n",
    "        \n",
    "    \n",
    "\n",
    "def get_top_article_ids(n, df=df):\n",
    "    \"\"\"\n",
    "    INPUT:\n",
    "    n - (int) the number of top articles to return\n",
    "    df - (pandas dataframe) df as defined at the top of the notebook \n",
    "    \n",
    "    OUTPUT:\n",
    "    top_articles - (list) A list of the top 'n' article titles \n",
    "    \n",
    "    \"\"\"\n",
    "    top_articles = df['article_id'].value_counts()\n",
    "    top_articles = [str(id) for id in top_articles.index[:n]]\n",
    " \n",
    "    return top_articles # Return the top article ids"
   ]
  },
  {
   "cell_type": "code",
   "execution_count": 20,
   "metadata": {},
   "outputs": [
    {
     "name": "stdout",
     "output_type": "stream",
     "text": [
      "['use deep learning for image classification', 'insights from new york car accident reports', 'visualize car data with brunel', 'use xgboost, scikit-learn & ibm watson machine learning apis', 'predicting churn with the spss random tree algorithm', 'healthcare python streaming application demo', 'finding optimal locations of new store using decision optimization', 'apache spark lab, part 1: basic concepts', 'analyze energy consumption in buildings', 'gosales transactions for logistic regression model']\n",
      "['1429', '1330', '1431', '1427', '1364', '1314', '1293', '1170', '1162', '1304']\n"
     ]
    }
   ],
   "source": [
    "print(get_top_articles(10))\n",
    "print(get_top_article_ids(10))"
   ]
  },
  {
   "cell_type": "code",
   "execution_count": 21,
   "metadata": {},
   "outputs": [
    {
     "name": "stdout",
     "output_type": "stream",
     "text": [
      "Your top_5 looks like the solution list! Nice job.\n",
      "Your top_10 looks like the solution list! Nice job.\n",
      "Your top_20 looks like the solution list! Nice job.\n"
     ]
    }
   ],
   "source": [
    "# Test your function by returning the top 5, 10, and 20 articles\n",
    "top_5 = get_top_articles(5)\n",
    "top_10 = get_top_articles(10)\n",
    "top_20 = get_top_articles(20)\n",
    "\n",
    "# Test each of your three lists from above\n",
    "t.sol_2_test(get_top_articles)"
   ]
  },
  {
   "cell_type": "markdown",
   "metadata": {},
   "source": [
    "### <a class=\"anchor\" id=\"User-User\">Part III: User-User Based Collaborative Filtering</a>\n",
    "\n",
    "\n",
    "`1.` Use the function below to reformat the **df** dataframe to be shaped with users as the rows and articles as the columns.  \n",
    "\n",
    "* Each **user** should only appear in each **row** once.\n",
    "\n",
    "\n",
    "* Each **article** should only show up in one **column**.  \n",
    "\n",
    "\n",
    "* **If a user has interacted with an article, then place a 1 where the user-row meets for that article-column**.  It does not matter how many times a user has interacted with the article, all entries where a user has interacted with an article should be a 1.  \n",
    "\n",
    "\n",
    "* **If a user has not interacted with an item, then place a zero where the user-row meets for that article-column**. \n",
    "\n",
    "Use the tests to make sure the basic structure of your matrix matches what is expected by the solution."
   ]
  },
  {
   "cell_type": "code",
   "execution_count": 22,
   "metadata": {},
   "outputs": [],
   "source": [
    "# create the user-article matrix with 1's and 0's\n",
    "\n",
    "def create_user_item_matrix(df, fill_value=0):\n",
    "    \"\"\"\n",
    "    INPUT:\n",
    "    df - pandas dataframe with article_id, title, user_id columns\n",
    "    \n",
    "    OUTPUT:\n",
    "    user_item - user item matrix \n",
    "    \n",
    "    Description:\n",
    "    Return a matrix with user ids as rows and article ids on the columns with 1 values where a user interacted with \n",
    "    an article and a 0 otherwise\n",
    "    \"\"\"\n",
    "    # Fill in the function here\n",
    "\n",
    "    user_item = df.groupby(['user_id', 'article_id'])['article_id'].count().unstack()\n",
    "    user_item = user_item.fillna(0)\n",
    "    user_item[user_item > 1] = 1\n",
    "  \n",
    "    return user_item # return the user_item matrix \n",
    "\n",
    "user_item = create_user_item_matrix(df)"
   ]
  },
  {
   "cell_type": "code",
   "execution_count": 23,
   "metadata": {},
   "outputs": [
    {
     "name": "stdout",
     "output_type": "stream",
     "text": [
      "You have passed our quick tests!  Please proceed!\n"
     ]
    }
   ],
   "source": [
    "## Tests: You should just need to run this cell.  Don't change the code.\n",
    "assert user_item.shape[0] == 5149, \"Oops!  The number of users in the user-article matrix doesn't look right.\"\n",
    "assert user_item.shape[1] == 714, \"Oops!  The number of articles in the user-article matrix doesn't look right.\"\n",
    "assert user_item.sum(axis=1)[1] == 36, \"Oops!  The number of articles seen by user 1 doesn't look right.\"\n",
    "print(\"You have passed our quick tests!  Please proceed!\")"
   ]
  },
  {
   "cell_type": "markdown",
   "metadata": {},
   "source": [
    "`2.` Complete the function below which should take a user_id and provide an ordered list of the most similar users to that user (from most similar to least similar).  The returned result should not contain the provided user_id, as we know that each user is similar to him/herself. Because the results for each user here are binary, it (perhaps) makes sense to compute similarity as the dot product of two users. \n",
    "\n",
    "Use the tests to test your function."
   ]
  },
  {
   "cell_type": "code",
   "execution_count": 24,
   "metadata": {},
   "outputs": [],
   "source": [
    "# Lets use the cosine_similarity function from sklearn\n",
    "from sklearn.metrics.pairwise import cosine_similarity"
   ]
  },
  {
   "cell_type": "code",
   "execution_count": 25,
   "metadata": {},
   "outputs": [],
   "source": [
    "def find_similar_users(user_id, user_item=user_item, include_similarity=False):\n",
    "    \"\"\"\n",
    "    INPUT:\n",
    "    user_id - (int) a user_id\n",
    "    user_item - (pandas dataframe) matrix of users by articles: \n",
    "                1's when a user has interacted with an article, 0 otherwise\n",
    "    include_similarity - (bool) whether to include the similarity in the output\n",
    "    \n",
    "    OUTPUT:\n",
    "    similar_users - (list) an ordered list where the closest users (largest dot product users)\n",
    "                    are listed first\n",
    "    \n",
    "    Description:\n",
    "    Computes the similarity of every pair of users based on the dot product\n",
    "    Returns an ordered list of user ids. If include_similarity is True, returns a list of lists\n",
    "    where the first element is the user id and the second the similarity.\n",
    "    \n",
    "    \"\"\"\n",
    "    # compute similarity of each user to the provided user\n",
    "    similarities = user_item.dot(user_item.loc[user_id].T) # sort by similarity\n",
    "    most_similar_users = similarities.sort_values(ascending = False).index.tolist()\n",
    "    most_similar_users.remove(user_id) # remove the user's id\n",
    "    if include_similarity:\n",
    "        return[[x,y] for x,y in zip(most_similar_users, similarities)]\n",
    "    else:\n",
    "        return most_similar_users\n"
   ]
  },
  {
   "cell_type": "code",
   "execution_count": 26,
   "metadata": {},
   "outputs": [
    {
     "name": "stdout",
     "output_type": "stream",
     "text": [
      "The 10 most similar users to user 1 are: [3933, 23, 3782, 203, 4459, 3870, 131, 46, 4201, 395]\n",
      "The 5 most similar users to user 3933 are: [1, 23, 3782, 203, 4459]\n",
      "The 3 most similar users to user 46 are: [4201, 3782, 23]\n"
     ]
    }
   ],
   "source": [
    "# Do a spot check of your function\n",
    "print(\"The 10 most similar users to user 1 are: {}\".format(find_similar_users(1)[:10]))\n",
    "print(\"The 5 most similar users to user 3933 are: {}\".format(find_similar_users(3933)[:5]))\n",
    "print(\"The 3 most similar users to user 46 are: {}\".format(find_similar_users(46)[:3]))"
   ]
  },
  {
   "cell_type": "markdown",
   "metadata": {},
   "source": [
    "`3.` Now that you have a function that provides the most similar users to each user, you will want to use these users to find articles you can recommend.  Complete the functions below to return the articles you would recommend to each user. "
   ]
  },
  {
   "cell_type": "code",
   "execution_count": 34,
   "metadata": {},
   "outputs": [],
   "source": [
    "def get_article_names(article_ids, df=df):\n",
    "    \"\"\"\n",
    "    INPUT:\n",
    "    article_ids - (list) a list of article ids\n",
    "    df - (pandas dataframe) df as defined at the top of the notebook\n",
    "    \n",
    "    OUTPUT:\n",
    "    article_names - (list) a list of article names associated with the list of article ids \n",
    "                    (this is identified by the title column in df)\n",
    "    \"\"\"\n",
    "    # Your code here\n",
    "       \n",
    "    article_names = []\n",
    "    for i in article_ids:\n",
    "        name = df[df['article_id'] == i]['title'].iloc[0]\n",
    "        article_names.append(name)\n",
    "    return article_names\n",
    "\n",
    "\n",
    "def get_ranked_article_unique_counts(article_ids, user_item=user_item):\n",
    "    \"\"\"\n",
    "    INPUT:\n",
    "    user_id - (int) a user id\n",
    "    user_item - (pandas dataframe) matrix of users by articles: \n",
    "                1's when a user has interacted with an article, 0 otherwise \n",
    "    \n",
    "    OUTPUT:\n",
    "    article_counts - (list) a list of tuples with article_id and number of \n",
    "                     unique users that have interacted with the article, sorted\n",
    "                     by the number of unique users in descending order\n",
    "    \n",
    "    Description:\n",
    "    Provides a list of the article_ids and the number of unique users that have\n",
    "    interacted with the article using the user_item matrix, sorted by the number\n",
    "    of unique users in descending order\n",
    "    \"\"\"\n",
    "    # Your code here\n",
    "\n",
    "    ranked_article_unique_counts = []\n",
    "    for i in article_ids:\n",
    "        conteos = int(user_item[i].sum())\n",
    "        ranked_article_unique_counts.append([i, conteos])\n",
    "        ranked_article_unique_counts = sorted(ranked_article_unique_counts, key = lambda x: x[1], reverse = True)\n",
    "    \n",
    "    return ranked_article_unique_counts\n",
    "\n",
    "\n",
    "def get_user_articles(user_id, user_item=user_item):\n",
    "    \"\"\"\n",
    "    INPUT:\n",
    "    user_id - (int) a user id\n",
    "    user_item - (pandas dataframe) matrix of users by articles: \n",
    "                1's when a user has interacted with an article, 0 otherwise\n",
    "    \n",
    "    OUTPUT:\n",
    "    article_ids - (list) a list of the article ids seen by the user\n",
    "    article_names - (list) a list of article names associated with the list of article ids \n",
    "                    (this is identified by the title column in df)\n",
    "    \n",
    "    Description:\n",
    "    Provides a list of the article_ids and article titles that have been seen by a user\n",
    "    \"\"\"\n",
    "    # Your code here\n",
    "    \n",
    "    article_ids = user_item.loc[user_id]\n",
    "    article_ids = [id for id in article_ids[article_ids == 1].index]\n",
    "    article_names = get_article_names(article_ids)\n",
    "    \n",
    "    return article_ids, article_names # return the ids and names\n",
    "\n",
    "\n",
    "def user_user_recs(user_id, m=10):\n",
    "    \"\"\"\n",
    "    INPUT:\n",
    "    user_id - (int) a user id\n",
    "    m - (int) the number of recommendations you want for the user\n",
    "    \n",
    "    OUTPUT:\n",
    "    recs - (list) a list of recommendations for the user\n",
    "    \n",
    "    Description:\n",
    "    Loops through the users based on closeness to the input user_id\n",
    "    For each user - finds articles the user hasn't seen before and provides them as recs\n",
    "    Does this until m recommendations are found\n",
    "    \n",
    "    Notes:\n",
    "    Users who are the same closeness are chosen arbitrarily as the 'next' user\n",
    "    \n",
    "    For the user where the number of recommended articles starts below m \n",
    "    and ends exceeding m, the last items are chosen arbitrarily\n",
    "    \n",
    "    \"\"\"\n",
    "    # Your code here\n",
    "   \n",
    "    \n",
    "    user_article_ids, user_article_names = get_user_articles(user_id)\n",
    "    most_similar_users = find_similar_users(user_id, user_item = user_item)\n",
    "    recs = np.array([])\n",
    "    for user in most_similar_users:\n",
    "        similar_articles_ids, user_article_names = get_user_articles(user)\n",
    "        new_recs = np.setdiff1d(similar_articles_ids, user_article_ids, assume_unique = True)\n",
    "        recs = np.unique(np.concatenate([recs, new_recs], axis = 0))\n",
    "        if len(recs) > m-1:\n",
    "            break\n",
    "    recs = recs[:m]\n",
    "                                                                                   \n",
    "    return recs # return your recommendations for this user_id    "
   ]
  },
  {
   "cell_type": "code",
   "execution_count": 35,
   "metadata": {},
   "outputs": [
    {
     "data": {
      "text/plain": [
       "['this week in data science (april 18, 2017)',\n",
       " 'timeseries data analysis of iot events by using jupyter notebook',\n",
       " 'got zip code data? prep it for analytics. – ibm watson data lab – medium',\n",
       " 'higher-order logistic regression for large datasets',\n",
       " 'using machine learning to predict parking difficulty',\n",
       " 'deep forest: towards an alternative to deep neural networks',\n",
       " 'experience iot with coursera',\n",
       " 'using brunel in ipython/jupyter notebooks',\n",
       " 'graph-based machine learning',\n",
       " 'the 3 kinds of context: machine learning and the art of the frame']"
      ]
     },
     "execution_count": 35,
     "metadata": {},
     "output_type": "execute_result"
    }
   ],
   "source": [
    "# Check Results\n",
    "get_article_names(user_user_recs(1, 10)) # Return 10 recommendations for user 1"
   ]
  },
  {
   "cell_type": "code",
   "execution_count": 36,
   "metadata": {},
   "outputs": [
    {
     "data": {
      "text/plain": [
       "[[1320, 123], [844, 78], [232, 62]]"
      ]
     },
     "execution_count": 36,
     "metadata": {},
     "output_type": "execute_result"
    }
   ],
   "source": [
    "get_ranked_article_unique_counts([1320, 232, 844])"
   ]
  },
  {
   "cell_type": "code",
   "execution_count": 37,
   "metadata": {},
   "outputs": [
    {
     "name": "stdout",
     "output_type": "stream",
     "text": [
      "If this is all you see, you passed all of our tests!  Nice job!\n"
     ]
    }
   ],
   "source": [
    "# Test your functions here - No need to change this code - just run this cell\n",
    "assert set(get_article_names([1024, 1176, 1305, 1314, 1422, 1427])) == set(['using deep learning to reconstruct high-resolution audio', 'build a python app on the streaming analytics service', 'gosales transactions for naive bayes model', 'healthcare python streaming application demo', 'use r dataframes & ibm watson natural language understanding', 'use xgboost, scikit-learn & ibm watson machine learning apis']), \"Oops! Your the get_article_names function doesn't work quite how we expect.\"\n",
    "assert set(get_article_names([1320, 232, 844])) == set(['housing (2015): united states demographic measures','self-service data preparation with ibm data refinery','use the cloudant-spark connector in python notebook']), \"Oops! Your the get_article_names function doesn't work quite how we expect.\"\n",
    "assert set(get_user_articles(20)[0]) == set([1320, 232, 844])\n",
    "assert set(get_user_articles(20)[1]) == set(['housing (2015): united states demographic measures', 'self-service data preparation with ibm data refinery','use the cloudant-spark connector in python notebook'])\n",
    "assert set(get_user_articles(2)[0]) == set([1024, 1176, 1305, 1314, 1422, 1427])\n",
    "assert set(get_user_articles(2)[1]) == set(['using deep learning to reconstruct high-resolution audio', 'build a python app on the streaming analytics service', 'gosales transactions for naive bayes model', 'healthcare python streaming application demo', 'use r dataframes & ibm watson natural language understanding', 'use xgboost, scikit-learn & ibm watson machine learning apis'])\n",
    "assert get_ranked_article_unique_counts([1320, 232, 844])[0] == [1320, 123], \"Oops! Your the get_ranked_article_unique_counts function doesn't work quite how we expect.\\nMake sure you are using the user_item matrix to create the article counts.\"\n",
    "print(\"If this is all you see, you passed all of our tests!  Nice job!\")"
   ]
  },
  {
   "cell_type": "markdown",
   "metadata": {},
   "source": [
    "`4.` Now we are going to improve the consistency of the **user_user_recs** function from above.  \n",
    "\n",
    "* Instead of arbitrarily choosing when we obtain users who are all the same closeness to a given user - choose the users that have the most total article interactions before choosing those with fewer article interactions.\n",
    "\n",
    "\n",
    "* Instead of arbitrarily choosing articles from the user where the number of recommended articles starts below m and ends exceeding m, choose articles with the articles with the most total interactions before choosing those with fewer total interactions. This ranking should be  what would be obtained from the **top_articles** function you wrote earlier."
   ]
  },
  {
   "cell_type": "code",
   "execution_count": 38,
   "metadata": {},
   "outputs": [],
   "source": [
    "def get_top_sorted_users(user_id, user_item=user_item):\n",
    "    \"\"\"\n",
    "    INPUT:\n",
    "    user_id - (int)\n",
    "    user_item - (pandas dataframe) matrix of users by articles: \n",
    "            1's when a user has interacted with an article, 0 otherwise\n",
    "    \n",
    "            \n",
    "    OUTPUT:\n",
    "    neighbors_df - (pandas dataframe) a dataframe with:\n",
    "                    neighbor_id - is a neighbor user_id\n",
    "                    similarity - measure of the similarity of each user to the provided user_id\n",
    "                    num_interactions - the number of articles viewed by the user\n",
    "                    \n",
    "    Other Details - sort the neighbors_df by the similarity and then by number of interactions where \n",
    "                    highest of each is higher in the dataframe, i.e. Descending order\n",
    "     \n",
    "    \"\"\"\n",
    "    # Your code here\n",
    "    # Hint: find similar users, but include their similarity, from there we can find the number of interactions for each neighbor\n",
    "    \n",
    "    # Calcular similitud coseno entre todos los usuarios\n",
    "    similarity_matrix = cosine_similarity(user_item)\n",
    "    # Obtener índice de usuario\n",
    "    user_idx = user_item.index.get_loc(user_id)\n",
    "    # Vector de similitud del usuario con todos los demás\n",
    "    similarity = pd.Series(similarity_matrix[user_idx], index=user_item.index)\n",
    "    # Crear DataFrame con similitud y número de interacciones\n",
    "    neighbors_df = pd.DataFrame({\n",
    "        'neighbor_id': similarity.index,\n",
    "        'similarity': similarity.values,\n",
    "        'num_interactions': user_item.sum(axis=1)\n",
    "    })\n",
    "\n",
    "    \n",
    "    neighbors_df = neighbors_df[neighbors_df['neighbor_id'] != user_id] \n",
    "    neighbors_df = neighbors_df.sort_values(by=['similarity', 'num_interactions'], ascending = False).reset_index(drop=True)\n",
    "  \n",
    "    return neighbors_df # Return the dataframe specified in the doc_string\n",
    "\n",
    "\n",
    "def user_user_recs_part2(user_id, m=10):\n",
    "    \"\"\"\n",
    "    INPUT:\n",
    "    user_id - (int) a user id\n",
    "    m - (int) the number of recommendations you want for the user\n",
    "    \n",
    "    OUTPUT:\n",
    "    recs - (list) a list of recommendations for the user by article id\n",
    "    rec_names - (list) a list of recommendations for the user by article title\n",
    "    \n",
    "    Description:\n",
    "    Loops through the users based on closeness to the input user_id\n",
    "    For each user - finds articles the user hasn't seen before and provides them as recs\n",
    "    Does this until m recommendations are found\n",
    "    \n",
    "    Notes:\n",
    "    * Choose the users that have the most total article interactions \n",
    "    before choosing those with fewer article interactions.\n",
    "\n",
    "    * Choose articles with the articles with the most total interactions \n",
    "    before choosing those with fewer total interactions. \n",
    "   \n",
    "    \"\"\"\n",
    "    # Your code here\n",
    "       \n",
    "    recs = []\n",
    "    user_articles = set(get_user_articles(user_id, user_item)[0])\n",
    "    similar_users = find_similar_users(user_id)\n",
    "    for neighbor in similar_users:\n",
    "        neighbor_articles = get_user_articles(neighbor, user_item)[0]\n",
    "        new_recs = [art for art in neighbor_articles if art not in user_articles and art not in recs]\n",
    "        recs.extend(new_recs)\n",
    "        if len(recs) >= m:\n",
    "            break\n",
    "    recs = recs[:m]\n",
    "    \n",
    "     \n",
    "    return recs, get_article_names(recs) # return your recommendations for this user_id"
   ]
  },
  {
   "cell_type": "code",
   "execution_count": 39,
   "metadata": {},
   "outputs": [
    {
     "name": "stdout",
     "output_type": "stream",
     "text": [
      "The top 10 recommendations for user 20 are the following article ids:\n",
      "[34, 124, 158, 164, 256, 314, 316, 337, 382, 444]\n",
      "\n",
      "The top 10 recommendations for user 20 are the following article names:\n",
      "['top 10 machine learning use cases: part 1', 'python machine learning: scikit-learn tutorial', 'd3heatmap: interactive heat maps', 'learn tensorflow and deep learning together and now!', 'xml2 1.0.0', 'some random weekend reading', 'leverage python, scikit, and text classification for behavioral profiling', 'generalization in deep learning', 'what is text analytics?', 'declarative machine learning']\n"
     ]
    }
   ],
   "source": [
    "# Quick spot check - don't change this code - just use it to test your functions\n",
    "rec_ids, rec_names = user_user_recs_part2(20, 10)\n",
    "print(\"The top 10 recommendations for user 20 are the following article ids:\")\n",
    "print(rec_ids)\n",
    "print()\n",
    "print(\"The top 10 recommendations for user 20 are the following article names:\")\n",
    "print(rec_names)"
   ]
  },
  {
   "cell_type": "markdown",
   "metadata": {},
   "source": [
    "`5.` Use your functions from above to correctly fill in the solutions to the dictionary below.  Then test your dictionary against the solution.  Provide the code you need to answer each following the comments below."
   ]
  },
  {
   "cell_type": "code",
   "execution_count": 40,
   "metadata": {},
   "outputs": [
    {
     "name": "stdout",
     "output_type": "stream",
     "text": [
      "   neighbor_id  similarity  num_interactions\n",
      "0         3933    0.986013              35.0\n",
      "   neighbor_id  similarity  num_interactions\n",
      "0         5083    0.730297               5.0\n",
      "1         1552    0.577350               2.0\n",
      "2         1890    0.577350               2.0\n",
      "3         1372    0.471405               3.0\n",
      "4         2941    0.433013               8.0\n",
      "5         3586    0.408248               4.0\n",
      "6          331    0.408248               1.0\n",
      "7          348    0.408248               1.0\n",
      "8          378    0.408248               1.0\n",
      "9          496    0.408248               1.0\n",
      "   neighbor_id  similarity  num_interactions\n",
      "0         3870    0.986667              75.0\n",
      "1          203    0.388909              96.0\n",
      "2         4459    0.388909              96.0\n",
      "3         3782    0.387585             135.0\n",
      "4           40    0.384308              52.0\n",
      "5         4932    0.384308              52.0\n",
      "6           23    0.377647             135.0\n",
      "7          242    0.375823              59.0\n",
      "8         3910    0.372678              60.0\n",
      "9          383    0.367423              32.0\n"
     ]
    }
   ],
   "source": [
    "print(get_top_sorted_users(1, user_item=user_item).head(n=1))\n",
    "print(get_top_sorted_users(2, user_item=user_item).head(n=10))\n",
    "print(get_top_sorted_users(131, user_item=user_item).head(n=10))"
   ]
  },
  {
   "cell_type": "code",
   "execution_count": 41,
   "metadata": {},
   "outputs": [],
   "source": [
    "### Tests with a dictionary of results\n",
    "user1_most_sim = get_top_sorted_users(1).neighbor_id.iloc[0] # Find the user that is most similar to user 1 \n",
    "user2_6th_sim = get_top_sorted_users(2).neighbor_id.iloc[5] # Find the 6th most similar user to user 2\n",
    "user131_10th_sim = get_top_sorted_users(131).neighbor_id.iloc[9] # Find the 10th most similar user to user 131"
   ]
  },
  {
   "cell_type": "code",
   "execution_count": 42,
   "metadata": {},
   "outputs": [
    {
     "name": "stdout",
     "output_type": "stream",
     "text": [
      "This all looks good!  Nice job!\n"
     ]
    }
   ],
   "source": [
    "## Dictionary Test Here\n",
    "sol_5_dict = {\n",
    "    'The user that is most similar to user 1.': user1_most_sim, \n",
    "    'The user that is the 6th most similar to user 2.': user2_6th_sim,   \n",
    "    'The user that is the 10th most similar to user 131.': user131_10th_sim,   \n",
    "}\n",
    "\n",
    "t.sol_5_test(sol_5_dict)"
   ]
  },
  {
   "cell_type": "markdown",
   "metadata": {},
   "source": [
    "`6.` If we were given a new user, which of the above functions would you be able to use to make recommendations?  Explain.  Can you think of a better way we might make recommendations?  Use the cell below to explain a better method for new users."
   ]
  },
  {
   "cell_type": "markdown",
   "metadata": {},
   "source": [
    "Answer:\n",
    "\n",
    "Top articles functions work well for new users because show the most popular articles among all users and this works as a reasonable default recommendation. User similarity-based functions dont work for new users because they rely on the similarity matrix between existing users. A new user has no interactions , so their vector is all zeros.A better approach for new users could be: if articles have features, we can ask the new user about their initial preferences and calculate similarity between articles using TF_IDF or emnedding based on content.\n"
   ]
  },
  {
   "cell_type": "markdown",
   "metadata": {},
   "source": [
    "`7.` Using your existing functions, provide the top 10 recommended articles you would provide for the a new user below.  You can test your function against our thoughts to make sure we are all on the same page with how we might make a recommendation."
   ]
  },
  {
   "cell_type": "code",
   "execution_count": 43,
   "metadata": {},
   "outputs": [],
   "source": [
    "# What would your recommendations be for this new user 0?  As a new user, they have no observed articles.\n",
    "# Provide a list of the top 10 article ids you would give to \n",
    "\n",
    "new_user_recs = df['article_id'].value_counts().head(10).index.tolist()\n"
   ]
  },
  {
   "cell_type": "code",
   "execution_count": 44,
   "metadata": {},
   "outputs": [
    {
     "name": "stdout",
     "output_type": "stream",
     "text": [
      "That's right!  Nice job!\n"
     ]
    }
   ],
   "source": [
    "assert set(new_user_recs) == {1314, 1429, 1293, 1427, 1162, 1364, 1304, 1170, 1431, 1330}, \"Oops!  It makes sense that in this case we would want to recommend the most popular articles, because we don't know anything about these users.\"\n",
    "\n",
    "print(\"That's right!  Nice job!\")"
   ]
  },
  {
   "cell_type": "markdown",
   "metadata": {},
   "source": [
    "### <a class=\"anchor\" id=\"Content-Recs\">Part IV: Content Based Recommendations</a>\n",
    "\n",
    "Another method we might use to make recommendations is to recommend similar articles that are possibly related. One way we can find article relationships is by clustering text about those articles.  Let's consider content to be the article **title**, as it is the only text we have available. One point to highlight, there isn't one way to create a content based recommendation, especially considering that text information can be processed in many ways.  \n",
    "\n",
    "`1.` Use the function bodies below to create a content based recommender function `make_content_recs`. We'll use TF-IDF to create a matrix based off article titles, and use this matrix to create clusters of related articles. You can use this function to make recommendations of new articles."
   ]
  },
  {
   "cell_type": "code",
   "execution_count": 45,
   "metadata": {},
   "outputs": [
    {
     "data": {
      "text/html": [
       "<div>\n",
       "<style scoped>\n",
       "    .dataframe tbody tr th:only-of-type {\n",
       "        vertical-align: middle;\n",
       "    }\n",
       "\n",
       "    .dataframe tbody tr th {\n",
       "        vertical-align: top;\n",
       "    }\n",
       "\n",
       "    .dataframe thead th {\n",
       "        text-align: right;\n",
       "    }\n",
       "</style>\n",
       "<table border=\"1\" class=\"dataframe\">\n",
       "  <thead>\n",
       "    <tr style=\"text-align: right;\">\n",
       "      <th></th>\n",
       "      <th>Unnamed: 0</th>\n",
       "      <th>article_id</th>\n",
       "      <th>title</th>\n",
       "      <th>user_id</th>\n",
       "    </tr>\n",
       "  </thead>\n",
       "  <tbody>\n",
       "    <tr>\n",
       "      <th>0</th>\n",
       "      <td>0</td>\n",
       "      <td>1430</td>\n",
       "      <td>using pixiedust for fast, flexible, and easier...</td>\n",
       "      <td>1</td>\n",
       "    </tr>\n",
       "    <tr>\n",
       "      <th>1</th>\n",
       "      <td>1</td>\n",
       "      <td>1314</td>\n",
       "      <td>healthcare python streaming application demo</td>\n",
       "      <td>2</td>\n",
       "    </tr>\n",
       "    <tr>\n",
       "      <th>2</th>\n",
       "      <td>2</td>\n",
       "      <td>1429</td>\n",
       "      <td>use deep learning for image classification</td>\n",
       "      <td>3</td>\n",
       "    </tr>\n",
       "    <tr>\n",
       "      <th>3</th>\n",
       "      <td>3</td>\n",
       "      <td>1338</td>\n",
       "      <td>ml optimization using cognitive assistant</td>\n",
       "      <td>4</td>\n",
       "    </tr>\n",
       "    <tr>\n",
       "      <th>4</th>\n",
       "      <td>4</td>\n",
       "      <td>1276</td>\n",
       "      <td>deploy your python model as a restful api</td>\n",
       "      <td>5</td>\n",
       "    </tr>\n",
       "  </tbody>\n",
       "</table>\n",
       "</div>"
      ],
      "text/plain": [
       "   Unnamed: 0  article_id                                              title  \\\n",
       "0           0        1430  using pixiedust for fast, flexible, and easier...   \n",
       "1           1        1314       healthcare python streaming application demo   \n",
       "2           2        1429         use deep learning for image classification   \n",
       "3           3        1338          ml optimization using cognitive assistant   \n",
       "4           4        1276          deploy your python model as a restful api   \n",
       "\n",
       "   user_id  \n",
       "0        1  \n",
       "1        2  \n",
       "2        3  \n",
       "3        4  \n",
       "4        5  "
      ]
     },
     "execution_count": 45,
     "metadata": {},
     "output_type": "execute_result"
    }
   ],
   "source": [
    "df.head()"
   ]
  },
  {
   "cell_type": "code",
   "execution_count": 46,
   "metadata": {},
   "outputs": [],
   "source": [
    "from sklearn.cluster import KMeans\n",
    "from sklearn.feature_extraction.text import TfidfVectorizer\n",
    "from sklearn.pipeline import make_pipeline\n",
    "from sklearn.preprocessing import Normalizer\n",
    "from sklearn.decomposition import TruncatedSVD"
   ]
  },
  {
   "cell_type": "code",
   "execution_count": 47,
   "metadata": {},
   "outputs": [],
   "source": [
    "# unique articles\n",
    "df_unique_articles = df['article_id'].unique()"
   ]
  },
  {
   "cell_type": "code",
   "execution_count": 48,
   "metadata": {},
   "outputs": [
    {
     "name": "stdout",
     "output_type": "stream",
     "text": [
      "Running TF-IDF\n",
      "n_samples: 45993, n_features: 200\n",
      "Explained variance of the SVD step: 71.3%\n"
     ]
    }
   ],
   "source": [
    "# Create a vectorizer using TfidfVectorizer and fit it to the article titles\n",
    "max_features = 200\n",
    "max_df = 0.75\n",
    "min_df = 5\n",
    "\n",
    "vectorizer = TfidfVectorizer(\n",
    "    max_df=max_df,\n",
    "    min_df=min_df,\n",
    "    stop_words=\"english\",\n",
    "    max_features=max_features,\n",
    ")\n",
    "print(\"Running TF-IDF\")\n",
    "X_tfidf =  vectorizer.fit_transform(df.title) # Fit the vectorizer to the article titles\n",
    "\n",
    "print(f\"n_samples: {X_tfidf.shape[0]}, n_features: {X_tfidf.shape[1]}\")\n",
    "\n",
    "lsa = make_pipeline(TruncatedSVD(n_components=50), Normalizer(copy=False))\n",
    "X_lsa = lsa.fit_transform(X_tfidf) # Fit the LSA model to the vectorized article titles\n",
    "explained_variance = lsa[0].explained_variance_ratio_.sum()\n",
    "\n",
    "print(f\"Explained variance of the SVD step: {explained_variance * 100:.1f}%\")"
   ]
  },
  {
   "cell_type": "code",
   "execution_count": 49,
   "metadata": {},
   "outputs": [
    {
     "data": {
      "text/plain": [
       "Text(0.5, 0, 'Number of clusters')"
      ]
     },
     "execution_count": 49,
     "metadata": {},
     "output_type": "execute_result"
    },
    {
     "data": {
      "image/png": "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",
      "text/plain": [
       "<Figure size 640x480 with 1 Axes>"
      ]
     },
     "metadata": {},
     "output_type": "display_data"
    }
   ],
   "source": [
    "# Let's map the inertia for different number of clusters to find the optimal number of clusters\n",
    "# We'll plot it to see the elbow\n",
    "inertia = []\n",
    "clusters = 300\n",
    "step = 25\n",
    "max_iter = 50\n",
    "n_init = 5\n",
    "random_state = 42\n",
    "for k in range(1, clusters, step):\n",
    "    kmeans = KMeans(\n",
    "        n_clusters=k,\n",
    "        max_iter=max_iter,\n",
    "        n_init=n_init,\n",
    "        random_state=random_state,\n",
    "    ).fit(X_lsa)\n",
    "    # inertia is the sum of squared distances to the closest cluster center\n",
    "    inertia.append(kmeans.inertia_)\n",
    "plt.plot(range(1, clusters, step), inertia)\n",
    "plt.xlabel('Number of clusters')"
   ]
  },
  {
   "cell_type": "markdown",
   "metadata": {},
   "source": [
    "There appears to be an elbow about 50, so we'll use 50 clusters."
   ]
  },
  {
   "cell_type": "code",
   "execution_count": 50,
   "metadata": {},
   "outputs": [],
   "source": [
    "n_clusters = 50 # Number of clusters\n",
    "kmeans = KMeans(\n",
    "    # Your code here, same as parameters above\n",
    "        n_clusters=n_clusters,\n",
    "        max_iter=max_iter,\n",
    "        n_init=n_init,\n",
    "        random_state=random_state,\n",
    "\n",
    ").fit(X_lsa)"
   ]
  },
  {
   "cell_type": "code",
   "execution_count": 51,
   "metadata": {},
   "outputs": [],
   "source": [
    "# create a new column `title_cluster` and assign it the kmeans cluster labels\n",
    "# First we need to map the labels to df_unique_articles article ids and then apply those to df\n",
    "article_cluster_map = dict(zip(df['article_id'], kmeans.labels_))\n",
    "df['title_cluster'] = df['article_id'].map(article_cluster_map)"
   ]
  },
  {
   "cell_type": "code",
   "execution_count": 52,
   "metadata": {},
   "outputs": [
    {
     "data": {
      "text/plain": [
       "array([[   0, 1106],\n",
       "       [   1,  515],\n",
       "       [   2,  840],\n",
       "       [   3, 2095],\n",
       "       [   4, 4229],\n",
       "       [   5, 1614],\n",
       "       [   6,  239],\n",
       "       [   7,  937],\n",
       "       [   8, 1579],\n",
       "       [   9, 1025],\n",
       "       [  10,  792],\n",
       "       [  11, 1141],\n",
       "       [  12, 1261],\n",
       "       [  13, 1161],\n",
       "       [  14,  712],\n",
       "       [  15,  931],\n",
       "       [  16,  969],\n",
       "       [  17, 1026],\n",
       "       [  18,  172],\n",
       "       [  19, 1059],\n",
       "       [  20,  943],\n",
       "       [  21, 1076],\n",
       "       [  22, 1282],\n",
       "       [  23,  614],\n",
       "       [  24, 1294],\n",
       "       [  25,  765],\n",
       "       [  26,  817],\n",
       "       [  27,  804],\n",
       "       [  28,  473],\n",
       "       [  29,  533],\n",
       "       [  30,  592],\n",
       "       [  31,  609],\n",
       "       [  32, 1307],\n",
       "       [  33,  595],\n",
       "       [  34,  558],\n",
       "       [  35,  658],\n",
       "       [  36,  422],\n",
       "       [  37,  558],\n",
       "       [  38,  683],\n",
       "       [  39,  729],\n",
       "       [  40,  578],\n",
       "       [  41,  853],\n",
       "       [  42,  603],\n",
       "       [  43,  524],\n",
       "       [  44,  785],\n",
       "       [  45, 1084],\n",
       "       [  46,  749],\n",
       "       [  47,  371],\n",
       "       [  48,  442],\n",
       "       [  49, 1289]])"
      ]
     },
     "execution_count": 52,
     "metadata": {},
     "output_type": "execute_result"
    }
   ],
   "source": [
    "# Let's check the number of articles in each cluster\n",
    "np.array(np.unique(kmeans.labels_, return_counts=True)).T"
   ]
  },
  {
   "cell_type": "code",
   "execution_count": 53,
   "metadata": {},
   "outputs": [],
   "source": [
    "def get_similar_articles(article_id, df=df):\n",
    "    \"\"\"\n",
    "    INPUT:\n",
    "    article_id - (int) an article id \n",
    "    df - (pandas dataframe) df as defined at the top of the notebook \n",
    "    \n",
    "    OUTPUT:\n",
    "    article_ids - (list) a list of article ids that are in the same title cluster\n",
    "    \n",
    "    Description:\n",
    "    Returns a list of the article ids that are in the same title cluster\n",
    "    \"\"\"\n",
    "     # Your code here\n",
    "    \n",
    "    title_cluster = int(df.loc[df['article_id'] == article_id]['title_cluster'].iloc[0])\n",
    "    articles_in_cluster = df.loc[(df['title_cluster']==title_cluster) &\n",
    "                                (df['article_id'] != article_id)]['article_id'].tolist()\n",
    " \n",
    "    return articles_in_cluster"
   ]
  },
  {
   "cell_type": "code",
   "execution_count": 54,
   "metadata": {},
   "outputs": [],
   "source": [
    "def make_content_recs(article_id, n, df=df):\n",
    "    \"\"\"\n",
    "    INPUT:\n",
    "    article_id - (int) an article id\n",
    "    n - (int) the number of recommendations you want similar to the article id\n",
    "    df - (pandas dataframe) df as defined at the top of the notebook\n",
    "    \n",
    "    OUTPUT:\n",
    "    n_ranked_similar_articles - (list) a list of article ids that are in the same title cluster ranked\n",
    "                                by popularity\n",
    "    n_ranked_article_names - (list) a list of article names associated with the list of article ids\n",
    "    \n",
    "    Description:\n",
    "    Returns a list of the n most ranked similar articles to a given article_id based on the title\n",
    "    cluster in df. Rank similar articles using the function get_ranked_article_unique_counts.\n",
    "    \"\"\"\n",
    "    # Your code here\n",
    "    \n",
    "    n_ranked_similar_articles = pd.Series(get_similar_articles(article_id)).value_counts().head(n).index.tolist()\n",
    "    n_ranked_article_names = get_article_names(n_ranked_similar_articles)\n",
    "    \n",
    "    return n_ranked_similar_articles, n_ranked_article_names\n",
    "\n",
    "        "
   ]
  },
  {
   "cell_type": "code",
   "execution_count": 55,
   "metadata": {},
   "outputs": [
    {
     "name": "stdout",
     "output_type": "stream",
     "text": [
      "[237, 1025, 593, 173, 101, 349, 821, 29, 975, 766]\n",
      "['deep learning with data science experience', 'data tidying in data science experience', 'upload files to ibm data science experience using the command line', '10 must attend data science, ml and ai conferences in 2018', 'how to choose a project to practice data science', 'ibm data science experience white paper - sparkr transforming r into a tool for big data analytics', 'using rstudio in ibm data science experience', 'experience iot with coursera', 'the data science process', 'making data science a team sport']\n"
     ]
    }
   ],
   "source": [
    "# Test out your content recommendations given artice_id 25\n",
    "rec_article_ids, rec_article_titles = make_content_recs(25, 10)\n",
    "print(rec_article_ids)\n",
    "print(rec_article_titles)"
   ]
  },
  {
   "cell_type": "code",
   "execution_count": 50,
   "metadata": {},
   "outputs": [],
   "source": [
    "assert len({1025, 593, 349, 821, 464, 29, 1042, 693, 524, 352}.intersection(set(rec_article_ids))) > 0, \"Oops! Your the make_content_recs function doesn't work quite how we expect.\""
   ]
  },
  {
   "cell_type": "markdown",
   "metadata": {},
   "source": [
    "`2.` Now that you have put together your content-based recommendation system, use the cell below to write a summary explaining how your content based recommender works.  Do you see any possible improvements that could be made to your function? What other text data would be useful to help make better recommendations besides the article title?"
   ]
  },
  {
   "cell_type": "markdown",
   "metadata": {},
   "source": [
    "**Write an explanation of your content based recommendation system here.**\n",
    "\n",
    "First, we vectorized the article content using TfidfVectorizer, which assigns greater weight to words that appear frequently in a single document but are infrequent in others, making it easier to distinguish between words. We used the Kmeans algorithm to cluster the vectors and group them semantically, selecting the optimal number of groups. We then created a function that recommends to the user the highest-ranked articles that are in the same cluster as the user.\n",
    "\n",
    "Improvements:\n",
    "*Improved textual embedding algorithms before clustering.\n",
    "*Use of textual topic recognition models (LDA, LSA, Bertopic).\n",
    "*Investigate whether there are positive or negative opinions or reviews of the articles in the database can be used as additional textual variables.\n",
    "\n",
    "\n",
    "\n",
    "\n"
   ]
  },
  {
   "cell_type": "markdown",
   "metadata": {},
   "source": [
    "### <a class=\"anchor\" id=\"Matrix-Fact\">Part V: Matrix Factorization</a>\n",
    "\n",
    "In this part of the notebook, you will build use matrix factorization to make article recommendations to users.\n",
    "\n",
    "`1.` You should have already created a **user_item** matrix above in **question 1** of **Part III** above.  This first question here will just require that you run the cells to get things set up for the rest of **Part V** of the notebook. "
   ]
  },
  {
   "cell_type": "code",
   "execution_count": 56,
   "metadata": {},
   "outputs": [
    {
     "data": {
      "text/html": [
       "<div>\n",
       "<style scoped>\n",
       "    .dataframe tbody tr th:only-of-type {\n",
       "        vertical-align: middle;\n",
       "    }\n",
       "\n",
       "    .dataframe tbody tr th {\n",
       "        vertical-align: top;\n",
       "    }\n",
       "\n",
       "    .dataframe thead th {\n",
       "        text-align: right;\n",
       "    }\n",
       "</style>\n",
       "<table border=\"1\" class=\"dataframe\">\n",
       "  <thead>\n",
       "    <tr style=\"text-align: right;\">\n",
       "      <th>article_id</th>\n",
       "      <th>0</th>\n",
       "      <th>2</th>\n",
       "      <th>4</th>\n",
       "      <th>8</th>\n",
       "      <th>9</th>\n",
       "      <th>12</th>\n",
       "      <th>14</th>\n",
       "      <th>15</th>\n",
       "      <th>16</th>\n",
       "      <th>18</th>\n",
       "      <th>...</th>\n",
       "      <th>1434</th>\n",
       "      <th>1435</th>\n",
       "      <th>1436</th>\n",
       "      <th>1437</th>\n",
       "      <th>1439</th>\n",
       "      <th>1440</th>\n",
       "      <th>1441</th>\n",
       "      <th>1442</th>\n",
       "      <th>1443</th>\n",
       "      <th>1444</th>\n",
       "    </tr>\n",
       "    <tr>\n",
       "      <th>user_id</th>\n",
       "      <th></th>\n",
       "      <th></th>\n",
       "      <th></th>\n",
       "      <th></th>\n",
       "      <th></th>\n",
       "      <th></th>\n",
       "      <th></th>\n",
       "      <th></th>\n",
       "      <th></th>\n",
       "      <th></th>\n",
       "      <th></th>\n",
       "      <th></th>\n",
       "      <th></th>\n",
       "      <th></th>\n",
       "      <th></th>\n",
       "      <th></th>\n",
       "      <th></th>\n",
       "      <th></th>\n",
       "      <th></th>\n",
       "      <th></th>\n",
       "      <th></th>\n",
       "    </tr>\n",
       "  </thead>\n",
       "  <tbody>\n",
       "    <tr>\n",
       "      <th>1</th>\n",
       "      <td>0.0</td>\n",
       "      <td>0.0</td>\n",
       "      <td>0.0</td>\n",
       "      <td>0.0</td>\n",
       "      <td>0.0</td>\n",
       "      <td>0.0</td>\n",
       "      <td>0.0</td>\n",
       "      <td>0.0</td>\n",
       "      <td>0.0</td>\n",
       "      <td>0.0</td>\n",
       "      <td>...</td>\n",
       "      <td>0.0</td>\n",
       "      <td>0.0</td>\n",
       "      <td>1.0</td>\n",
       "      <td>0.0</td>\n",
       "      <td>1.0</td>\n",
       "      <td>0.0</td>\n",
       "      <td>0.0</td>\n",
       "      <td>0.0</td>\n",
       "      <td>0.0</td>\n",
       "      <td>0.0</td>\n",
       "    </tr>\n",
       "    <tr>\n",
       "      <th>2</th>\n",
       "      <td>0.0</td>\n",
       "      <td>0.0</td>\n",
       "      <td>0.0</td>\n",
       "      <td>0.0</td>\n",
       "      <td>0.0</td>\n",
       "      <td>0.0</td>\n",
       "      <td>0.0</td>\n",
       "      <td>0.0</td>\n",
       "      <td>0.0</td>\n",
       "      <td>0.0</td>\n",
       "      <td>...</td>\n",
       "      <td>0.0</td>\n",
       "      <td>0.0</td>\n",
       "      <td>0.0</td>\n",
       "      <td>0.0</td>\n",
       "      <td>0.0</td>\n",
       "      <td>0.0</td>\n",
       "      <td>0.0</td>\n",
       "      <td>0.0</td>\n",
       "      <td>0.0</td>\n",
       "      <td>0.0</td>\n",
       "    </tr>\n",
       "    <tr>\n",
       "      <th>3</th>\n",
       "      <td>0.0</td>\n",
       "      <td>0.0</td>\n",
       "      <td>0.0</td>\n",
       "      <td>0.0</td>\n",
       "      <td>0.0</td>\n",
       "      <td>1.0</td>\n",
       "      <td>0.0</td>\n",
       "      <td>0.0</td>\n",
       "      <td>0.0</td>\n",
       "      <td>0.0</td>\n",
       "      <td>...</td>\n",
       "      <td>0.0</td>\n",
       "      <td>0.0</td>\n",
       "      <td>1.0</td>\n",
       "      <td>0.0</td>\n",
       "      <td>0.0</td>\n",
       "      <td>0.0</td>\n",
       "      <td>0.0</td>\n",
       "      <td>0.0</td>\n",
       "      <td>0.0</td>\n",
       "      <td>0.0</td>\n",
       "    </tr>\n",
       "    <tr>\n",
       "      <th>4</th>\n",
       "      <td>0.0</td>\n",
       "      <td>0.0</td>\n",
       "      <td>0.0</td>\n",
       "      <td>0.0</td>\n",
       "      <td>0.0</td>\n",
       "      <td>0.0</td>\n",
       "      <td>0.0</td>\n",
       "      <td>0.0</td>\n",
       "      <td>0.0</td>\n",
       "      <td>0.0</td>\n",
       "      <td>...</td>\n",
       "      <td>0.0</td>\n",
       "      <td>0.0</td>\n",
       "      <td>0.0</td>\n",
       "      <td>0.0</td>\n",
       "      <td>0.0</td>\n",
       "      <td>0.0</td>\n",
       "      <td>0.0</td>\n",
       "      <td>0.0</td>\n",
       "      <td>0.0</td>\n",
       "      <td>0.0</td>\n",
       "    </tr>\n",
       "    <tr>\n",
       "      <th>5</th>\n",
       "      <td>0.0</td>\n",
       "      <td>0.0</td>\n",
       "      <td>0.0</td>\n",
       "      <td>0.0</td>\n",
       "      <td>0.0</td>\n",
       "      <td>0.0</td>\n",
       "      <td>0.0</td>\n",
       "      <td>0.0</td>\n",
       "      <td>0.0</td>\n",
       "      <td>0.0</td>\n",
       "      <td>...</td>\n",
       "      <td>0.0</td>\n",
       "      <td>0.0</td>\n",
       "      <td>0.0</td>\n",
       "      <td>0.0</td>\n",
       "      <td>0.0</td>\n",
       "      <td>0.0</td>\n",
       "      <td>0.0</td>\n",
       "      <td>0.0</td>\n",
       "      <td>0.0</td>\n",
       "      <td>0.0</td>\n",
       "    </tr>\n",
       "  </tbody>\n",
       "</table>\n",
       "<p>5 rows × 714 columns</p>\n",
       "</div>"
      ],
      "text/plain": [
       "article_id  0     2     4     8     9     12    14    15    16    18    ...  \\\n",
       "user_id                                                                 ...   \n",
       "1            0.0   0.0   0.0   0.0   0.0   0.0   0.0   0.0   0.0   0.0  ...   \n",
       "2            0.0   0.0   0.0   0.0   0.0   0.0   0.0   0.0   0.0   0.0  ...   \n",
       "3            0.0   0.0   0.0   0.0   0.0   1.0   0.0   0.0   0.0   0.0  ...   \n",
       "4            0.0   0.0   0.0   0.0   0.0   0.0   0.0   0.0   0.0   0.0  ...   \n",
       "5            0.0   0.0   0.0   0.0   0.0   0.0   0.0   0.0   0.0   0.0  ...   \n",
       "\n",
       "article_id  1434  1435  1436  1437  1439  1440  1441  1442  1443  1444  \n",
       "user_id                                                                 \n",
       "1            0.0   0.0   1.0   0.0   1.0   0.0   0.0   0.0   0.0   0.0  \n",
       "2            0.0   0.0   0.0   0.0   0.0   0.0   0.0   0.0   0.0   0.0  \n",
       "3            0.0   0.0   1.0   0.0   0.0   0.0   0.0   0.0   0.0   0.0  \n",
       "4            0.0   0.0   0.0   0.0   0.0   0.0   0.0   0.0   0.0   0.0  \n",
       "5            0.0   0.0   0.0   0.0   0.0   0.0   0.0   0.0   0.0   0.0  \n",
       "\n",
       "[5 rows x 714 columns]"
      ]
     },
     "execution_count": 56,
     "metadata": {},
     "output_type": "execute_result"
    }
   ],
   "source": [
    "# quick look at the matrix\n",
    "user_item.head()"
   ]
  },
  {
   "cell_type": "markdown",
   "metadata": {},
   "source": [
    "`2.` In this situation, you can use Singular Value Decomposition from [scikit-learn](https://scikit-learn.org/stable/modules/generated/sklearn.decomposition.TruncatedSVD.html) on the user-item matrix.  Use the cell to perform SVD."
   ]
  },
  {
   "cell_type": "code",
   "execution_count": 57,
   "metadata": {},
   "outputs": [
    {
     "name": "stdout",
     "output_type": "stream",
     "text": [
      "u (5149, 714)\n",
      "s (714,)\n",
      "vt (714, 714)\n"
     ]
    }
   ],
   "source": [
    "from sklearn.decomposition import TruncatedSVD\n",
    "from sklearn.metrics import precision_score, recall_score, accuracy_score\n",
    "# Using the full number of components which equals the number of columns\n",
    "svd = TruncatedSVD(n_components=len(user_item.columns), n_iter=5, random_state=42)\n",
    "\n",
    "u = svd.fit_transform(user_item)\n",
    "v = svd.components_\n",
    "s = svd.singular_values_ \n",
    "print('u', u.shape)\n",
    "print('s', s.shape)\n",
    "print('vt', v.shape)"
   ]
  },
  {
   "cell_type": "markdown",
   "metadata": {},
   "source": [
    "`3.` Now for the tricky part, how do we choose the number of latent features to use?  Running the below cell, you can see that as the number of latent features increases, we obtain better metrics when making predictions for the 1 and 0 values in the user-item matrix.  Run the cell below to get an idea of how our metrics improve as we increase the number of latent features."
   ]
  },
  {
   "cell_type": "markdown",
   "metadata": {},
   "source": []
  },
  {
   "cell_type": "code",
   "execution_count": 58,
   "metadata": {},
   "outputs": [
    {
     "data": {
      "text/plain": [
       "Text(0.5, 1.0, 'Metrics vs. Number of Latent Features')"
      ]
     },
     "execution_count": 58,
     "metadata": {},
     "output_type": "execute_result"
    },
    {
     "data": {
      "image/png": "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",
      "text/plain": [
       "<Figure size 640x480 with 1 Axes>"
      ]
     },
     "metadata": {},
     "output_type": "display_data"
    }
   ],
   "source": [
    "num_latent_feats = np.arange(10, 700+10, 20)\n",
    "metric_scores = []\n",
    "\n",
    "for k in num_latent_feats:\n",
    "    # restructure with k latent features\n",
    "    u_new, vt_new = u[:, :k], v[:k, :]\n",
    "    \n",
    "    # take dot product\n",
    "    user_item_est = abs(np.around(np.dot(u_new, vt_new))).astype(int)\n",
    "    # make sure the values are between 0 and 1\n",
    "    user_item_est = np.clip(user_item_est, 0, 1)\n",
    "    \n",
    "    # total errors and keep track of them\n",
    "    acc = accuracy_score(user_item.values.flatten(), user_item_est.flatten())\n",
    "    precision = precision_score(user_item.values.flatten(), user_item_est.flatten())\n",
    "    recall = recall_score(user_item.values.flatten(), user_item_est.flatten())\n",
    "    metric_scores.append([acc, precision, recall])\n",
    "    \n",
    "    \n",
    "plt.plot(num_latent_feats, metric_scores, label=['Accuracy', 'Precision', 'Recall'])\n",
    "plt.legend()\n",
    "plt.xlabel('Number of Latent Features')\n",
    "plt.title('Metrics vs. Number of Latent Features')"
   ]
  },
  {
   "cell_type": "markdown",
   "metadata": {},
   "source": [
    "`4.` From the above, we can't really be sure how many features to use, because simply having a better way to predict the 1's and 0's of the matrix doesn't exactly give us an indication of if we are able to make good recommendations. Given the plot above, what would you pick for the number of latent features and why?"
   ]
  },
  {
   "cell_type": "markdown",
   "metadata": {},
   "source": [
    "**Provide your response here.**\n",
    "\n",
    "Although metrics like accuracy, precision, and recall tend to improve as we increase the number of latent features, this doesn't necessarily mean that we're making better recommendations. The model might just be getting better at reproducing the original user-item matrix, rather than generalizing well to recommend new, relevant items. This can lead to overfitting.\n",
    "\n",
    "Therefore, a good strategy is to look for a balance point, often referred to as the \"elbow point\" — where the metrics begin to level off and additional features bring diminishing returns.\n",
    "\n",
    "Based on that idea, I would pick a number of latent features where the improvement in metrics starts to plateau. Based on that idea, if the scores begin to stabilize around 450 - 500 latent features, then that would be a good choice. It provides a good trade-off between performance and model complexity, without overfitting."
   ]
  },
  {
   "cell_type": "markdown",
   "metadata": {},
   "source": [
    "`5.` Using 200 latent features and the values of U, S, and V transpose we calculated above, create an article id recommendation function that finds similar article ids to the one provide.\n",
    "\n",
    "Create a list of 10 recommendations that are similar to article with id 4.  The function should provide these recommendations by finding articles that have the most similar latent features as the provided article."
   ]
  },
  {
   "cell_type": "code",
   "execution_count": 64,
   "metadata": {},
   "outputs": [],
   "source": [
    "from sklearn.metrics.pairwise import cosine_similarity\n",
    "def get_svd_similar_article_ids(article_id, vt, user_item=user_item, include_similarity=False):\n",
    "    \"\"\"\n",
    "    INPUT:\n",
    "    article_id - (int) an article id\n",
    "    vt - (numpy array) vt matrix from SVD\n",
    "    user_item - (pandas dataframe) matrix of users by articles: \n",
    "                1's when a user has interacted with an article, 0 otherwise\n",
    "    include_similarity - (bool) whether to include the similarity in the output\n",
    "    \n",
    "    OUTPUT:\n",
    "    article_ids - (list) a list of article ids that are in the same title cluster\n",
    "    \n",
    "    Description:\n",
    "    Returns a list of the article ids similar using SVD factorization\n",
    "    \"\"\"\n",
    "    \n",
    "    article_idx = list(user_item.columns).index(article_id) # Find the index of the article_id\n",
    "    # Find the cosine similarity of all articles\n",
    "    # Hint: vt should be transposed before passing to cosine_similarity to get a 714 x 714 matrix \n",
    "    vt_t = vt.T\n",
    "    cos_sim = cosine_similarity(vt_t[article_idx].reshape(1, -1), vt_t).flatten()\n",
    "    similar_indices = np.argsort(-cos_sim) # sort in descending order\n",
    "    similar_indices = similar_indices[similar_indices != article_idx]\n",
    "   \n",
    "    if include_similarity:\n",
    "        most_similar_items = [(user_item.columns[i], cos_sim[i]) for i in similar_indices]\n",
    "    else:\n",
    "        most_similar_items = [user_item.columns[i] for i in similar_indices]\n",
    "    return most_similar_items\n"
   ]
  },
  {
   "cell_type": "code",
   "execution_count": 65,
   "metadata": {},
   "outputs": [],
   "source": [
    "# Create a vt_new matrix with 200 latent features\n",
    "k = 200\n",
    "vt_new = v[:k, :]"
   ]
  },
  {
   "cell_type": "code",
   "execution_count": 66,
   "metadata": {},
   "outputs": [
    {
     "name": "stdout",
     "output_type": "stream",
     "text": [
      "Current article: analyze ny restaurant data using spark in dsx\n"
     ]
    }
   ],
   "source": [
    "# What is the article name for article_id 4?\n",
    "print(\"Current article:\", get_article_names([4], df=df)[0])"
   ]
  },
  {
   "cell_type": "code",
   "execution_count": 67,
   "metadata": {},
   "outputs": [
    {
     "data": {
      "text/plain": [
       "[np.int64(1199),\n",
       " np.int64(1068),\n",
       " np.int64(486),\n",
       " np.int64(1202),\n",
       " np.int64(176),\n",
       " np.int64(1120),\n",
       " np.int64(244),\n",
       " np.int64(793),\n",
       " np.int64(58),\n",
       " np.int64(132)]"
      ]
     },
     "execution_count": 67,
     "metadata": {},
     "output_type": "execute_result"
    }
   ],
   "source": [
    "# What are the top 10 most similar articles to article_id 4?\n",
    "rec_articles = get_svd_similar_article_ids(4, vt_new, user_item=user_item)[:10]\n",
    "rec_articles"
   ]
  },
  {
   "cell_type": "code",
   "execution_count": 68,
   "metadata": {},
   "outputs": [
    {
     "data": {
      "text/plain": [
       "['country statistics: crude oil - exports',\n",
       " 'airbnb data for analytics: athens reviews',\n",
       " 'use spark r to load and analyze data',\n",
       " 'country statistics: crude oil - proved reserves',\n",
       " 'top analytics tools in 2016',\n",
       " 'airbnb data for analytics: paris calendar',\n",
       " 'notebooks: a power tool for data scientists',\n",
       " '10 powerful features on watson data platform, no coding necessary',\n",
       " 'advancements in the spark community',\n",
       " 'collecting data science cheat sheets']"
      ]
     },
     "execution_count": 68,
     "metadata": {},
     "output_type": "execute_result"
    }
   ],
   "source": [
    "# What are the top 10 most similar articles to article_id 4?\n",
    "get_article_names(rec_articles, df=df)"
   ]
  },
  {
   "cell_type": "code",
   "execution_count": 69,
   "metadata": {},
   "outputs": [
    {
     "name": "stdout",
     "output_type": "stream",
     "text": [
      "That's right!  Great job!\n"
     ]
    }
   ],
   "source": [
    "assert set(rec_articles) == {1199, 1068, 486, 1202, 176, 1120, 244, 793, 58, 132}, \"Oops! Your the get_svd_similar_article_ids function doesn't work quite how we expect.\"\n",
    "print(\"That's right!  Great job!\")"
   ]
  },
  {
   "cell_type": "markdown",
   "metadata": {
    "collapsed": true
   },
   "source": [
    "`6.` Use the cell below to comment on the results you found in the previous question. Given the circumstances of your results, discuss what you might do to determine if the recommendations you make above are an improvement to how users currently find articles, either by Sections 2, 3, or 4? Add any tradeoffs between each of the methods, and how you could leverage each type for different situations including new users with no history, recently new users with little history, and users with a lot of history. "
   ]
  },
  {
   "cell_type": "markdown",
   "metadata": {},
   "source": [
    "**Your response here.**\n",
    "\n",
    "**Section 2. User-based Collaborative Filtering**\n",
    "\n",
    "This method recommends articles based on the similarity between users’ interactions. It works well when users have enough interaction history. The strengths are: (1) Captures user behavior and preferences effectively, (2) is useful for highly active users with many interactions. The limitations are: (1) the method suffers from the cold start problem: it doesn’t perform well for new users with no history, (2) the method requires a dense interaction matrix to be effective.\n",
    "\n",
    "\n",
    "**Section 3. Content-based Recommendations (Clustering)**\n",
    "\n",
    "Using clustering techniques (e.g., KMeans) on article features, I grouped similar articles and recommended items from the same cluster as those a user previously engaged with. The strengths are: (1) Works even for new users, (2) Good for specialized articles with fewer interactions. . The limitations are: (1) Can be too narrow: only recommends items similar to what the user has already seen, (2) quality depends on the quality and richness of content features.\n",
    "\n",
    "\n",
    "**Section 4. Matrix Factorization (SVD)**\n",
    "\n",
    "This method captures hidden patterns between users and items by decomposing the user-item interaction matrix into latent factors. The limitations are: (1) affected by the cold start problem for new users/items, (2) Requires tuning of the number of latent features to avoid overfitting. The strengths are: (1) Provides accurate recommendations by modeling complex relationships, (2) scales well and performs well on sparse data.\n",
    "\n",
    "\n",
    "**Recommended Method Jutification**\n",
    "\n",
    "For new user with no history: Content-based (Clustering) because doesn’t rely on past interactions.\n",
    "For recently user with little history: User-based Collaborative Filtering because starts to benefit from user similarity as interaction data grows\n",
    "For user with rich interaction history : Matrix Factorization (SVD)\tbecuse learns latent preferences well from past behavior\n",
    "Real-time system or scalable solution: Matrix Factorization or Hybrid because is eficient for large datasets, and can combine with content-based to handle cold start"
   ]
  },
  {
   "cell_type": "markdown",
   "metadata": {
    "collapsed": true
   },
   "source": [
    "<a id='conclusions'></a>\n",
    "### Extras\n",
    "Using your workbook, you could now save your recommendations for each user, develop a class to make new predictions and update your results, and make a flask app to deploy your results.  These tasks are beyond what is required for this project.  However, from what you learned in the lessons, you certainly capable of taking these tasks on to improve upon your work here!\n",
    "\n",
    "\n",
    "## Conclusion\n",
    "\n",
    "> Congratulations!  You have reached the end of the Recommendation Systems project! \n",
    "\n",
    "> **Tip**: Once you are satisfied with your work here, check over your report to make sure that it is satisfies all the areas of the [rubric](https://review.udacity.com/#!/rubrics/2322/view). You should also probably remove all of the \"Tips\" like this one so that the presentation is as polished as possible.\n",
    "\n",
    "\n",
    "## Directions to Submit\n",
    "\n",
    "> Before you submit your project, you need to create a .html or .pdf version of this notebook in the workspace here. To do that, run the code cell below. If it worked correctly, you should get a return code of 0, and you should see the generated .html file in the workspace directory (click on the orange Jupyter icon in the upper left).\n",
    "\n",
    "> Alternatively, you can download this report as .html via the **File** > **Download as** submenu, and then manually upload it into the workspace directory by clicking on the orange Jupyter icon in the upper left, then using the Upload button.\n",
    "\n",
    "> Once you've done this, you can submit your project by clicking on the \"Submit Project\" button in the lower right here. This will create and submit a zip file with this .ipynb doc and the .html or .pdf version you created. Congratulations! "
   ]
  },
  {
   "cell_type": "code",
   "execution_count": 60,
   "metadata": {
    "scrolled": true
   },
   "outputs": [
    {
     "name": "stderr",
     "output_type": "stream",
     "text": [
      "Traceback (most recent call last):\n",
      "  File \"/usr/local/lib/python3.10/runpy.py\", line 196, in _run_module_as_main\n",
      "    return _run_code(code, main_globals, None,\n",
      "  File \"/usr/local/lib/python3.10/runpy.py\", line 86, in _run_code\n",
      "    exec(code, run_globals)\n",
      "  File \"/opt/venv/lib/python3.10/site-packages/nbconvert/__main__.py\", line 5, in <module>\n",
      "    main()\n",
      "  File \"/opt/venv/lib/python3.10/site-packages/jupyter_core/application.py\", line 283, in launch_instance\n",
      "    super().launch_instance(argv=argv, **kwargs)\n",
      "  File \"/opt/venv/lib/python3.10/site-packages/traitlets/config/application.py\", line 1075, in launch_instance\n",
      "    app.start()\n",
      "  File \"/opt/venv/lib/python3.10/site-packages/nbconvert/nbconvertapp.py\", line 420, in start\n",
      "    self.convert_notebooks()\n",
      "  File \"/opt/venv/lib/python3.10/site-packages/nbconvert/nbconvertapp.py\", line 582, in convert_notebooks\n",
      "    raise ValueError(msg)\n",
      "ValueError: Please specify an output format with '--to <format>'.\n",
      "The following formats are available: ['asciidoc', 'custom', 'html', 'latex', 'markdown', 'notebook', 'pdf', 'python', 'qtpdf', 'qtpng', 'rst', 'script', 'slides', 'webpdf']\n"
     ]
    },
    {
     "data": {
      "text/plain": [
       "1"
      ]
     },
     "execution_count": 60,
     "metadata": {},
     "output_type": "execute_result"
    }
   ],
   "source": [
    "from subprocess import call\n",
    "call(['python', '-m', 'nbconvert', 'Recommendations_with_IBM.ipynb'])"
   ]
  },
  {
   "cell_type": "code",
   "execution_count": null,
   "metadata": {},
   "outputs": [],
   "source": []
  }
 ],
 "metadata": {
  "kernelspec": {
   "display_name": "Python 3 (ipykernel)",
   "language": "python",
   "name": "python3"
  },
  "language_info": {
   "codemirror_mode": {
    "name": "ipython",
    "version": 3
   },
   "file_extension": ".py",
   "mimetype": "text/x-python",
   "name": "python",
   "nbconvert_exporter": "python",
   "pygments_lexer": "ipython3",
   "version": "3.10.13"
  }
 },
 "nbformat": 4,
 "nbformat_minor": 2
}
